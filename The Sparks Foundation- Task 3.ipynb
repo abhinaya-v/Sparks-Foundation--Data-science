{
 "cells": [
  {
   "cell_type": "markdown",
   "metadata": {},
   "source": [
    "### Prediction using Decision tree classifier"
   ]
  },
  {
   "cell_type": "markdown",
   "metadata": {},
   "source": [
    "###    V.Abhinaya"
   ]
  },
  {
   "cell_type": "code",
   "execution_count": 1,
   "metadata": {},
   "outputs": [],
   "source": [
    "import pandas as pd\n",
    "import numpy as np\n",
    "import matplotlib.pyplot as plt"
   ]
  },
  {
   "cell_type": "code",
   "execution_count": 2,
   "metadata": {},
   "outputs": [
    {
     "data": {
      "text/html": [
       "<div>\n",
       "<style scoped>\n",
       "    .dataframe tbody tr th:only-of-type {\n",
       "        vertical-align: middle;\n",
       "    }\n",
       "\n",
       "    .dataframe tbody tr th {\n",
       "        vertical-align: top;\n",
       "    }\n",
       "\n",
       "    .dataframe thead th {\n",
       "        text-align: right;\n",
       "    }\n",
       "</style>\n",
       "<table border=\"1\" class=\"dataframe\">\n",
       "  <thead>\n",
       "    <tr style=\"text-align: right;\">\n",
       "      <th></th>\n",
       "      <th>Id</th>\n",
       "      <th>SepalLengthCm</th>\n",
       "      <th>SepalWidthCm</th>\n",
       "      <th>PetalLengthCm</th>\n",
       "      <th>PetalWidthCm</th>\n",
       "      <th>Species</th>\n",
       "    </tr>\n",
       "  </thead>\n",
       "  <tbody>\n",
       "    <tr>\n",
       "      <th>0</th>\n",
       "      <td>1</td>\n",
       "      <td>5.1</td>\n",
       "      <td>3.5</td>\n",
       "      <td>1.4</td>\n",
       "      <td>0.2</td>\n",
       "      <td>Iris-setosa</td>\n",
       "    </tr>\n",
       "    <tr>\n",
       "      <th>1</th>\n",
       "      <td>2</td>\n",
       "      <td>4.9</td>\n",
       "      <td>3.0</td>\n",
       "      <td>1.4</td>\n",
       "      <td>0.2</td>\n",
       "      <td>Iris-setosa</td>\n",
       "    </tr>\n",
       "    <tr>\n",
       "      <th>2</th>\n",
       "      <td>3</td>\n",
       "      <td>4.7</td>\n",
       "      <td>3.2</td>\n",
       "      <td>1.3</td>\n",
       "      <td>0.2</td>\n",
       "      <td>Iris-setosa</td>\n",
       "    </tr>\n",
       "    <tr>\n",
       "      <th>3</th>\n",
       "      <td>4</td>\n",
       "      <td>4.6</td>\n",
       "      <td>3.1</td>\n",
       "      <td>1.5</td>\n",
       "      <td>0.2</td>\n",
       "      <td>Iris-setosa</td>\n",
       "    </tr>\n",
       "    <tr>\n",
       "      <th>4</th>\n",
       "      <td>5</td>\n",
       "      <td>5.0</td>\n",
       "      <td>3.6</td>\n",
       "      <td>1.4</td>\n",
       "      <td>0.2</td>\n",
       "      <td>Iris-setosa</td>\n",
       "    </tr>\n",
       "    <tr>\n",
       "      <th>...</th>\n",
       "      <td>...</td>\n",
       "      <td>...</td>\n",
       "      <td>...</td>\n",
       "      <td>...</td>\n",
       "      <td>...</td>\n",
       "      <td>...</td>\n",
       "    </tr>\n",
       "    <tr>\n",
       "      <th>145</th>\n",
       "      <td>146</td>\n",
       "      <td>6.7</td>\n",
       "      <td>3.0</td>\n",
       "      <td>5.2</td>\n",
       "      <td>2.3</td>\n",
       "      <td>Iris-virginica</td>\n",
       "    </tr>\n",
       "    <tr>\n",
       "      <th>146</th>\n",
       "      <td>147</td>\n",
       "      <td>6.3</td>\n",
       "      <td>2.5</td>\n",
       "      <td>5.0</td>\n",
       "      <td>1.9</td>\n",
       "      <td>Iris-virginica</td>\n",
       "    </tr>\n",
       "    <tr>\n",
       "      <th>147</th>\n",
       "      <td>148</td>\n",
       "      <td>6.5</td>\n",
       "      <td>3.0</td>\n",
       "      <td>5.2</td>\n",
       "      <td>2.0</td>\n",
       "      <td>Iris-virginica</td>\n",
       "    </tr>\n",
       "    <tr>\n",
       "      <th>148</th>\n",
       "      <td>149</td>\n",
       "      <td>6.2</td>\n",
       "      <td>3.4</td>\n",
       "      <td>5.4</td>\n",
       "      <td>2.3</td>\n",
       "      <td>Iris-virginica</td>\n",
       "    </tr>\n",
       "    <tr>\n",
       "      <th>149</th>\n",
       "      <td>150</td>\n",
       "      <td>5.9</td>\n",
       "      <td>3.0</td>\n",
       "      <td>5.1</td>\n",
       "      <td>1.8</td>\n",
       "      <td>Iris-virginica</td>\n",
       "    </tr>\n",
       "  </tbody>\n",
       "</table>\n",
       "<p>150 rows × 6 columns</p>\n",
       "</div>"
      ],
      "text/plain": [
       "      Id  SepalLengthCm  SepalWidthCm  PetalLengthCm  PetalWidthCm  \\\n",
       "0      1            5.1           3.5            1.4           0.2   \n",
       "1      2            4.9           3.0            1.4           0.2   \n",
       "2      3            4.7           3.2            1.3           0.2   \n",
       "3      4            4.6           3.1            1.5           0.2   \n",
       "4      5            5.0           3.6            1.4           0.2   \n",
       "..   ...            ...           ...            ...           ...   \n",
       "145  146            6.7           3.0            5.2           2.3   \n",
       "146  147            6.3           2.5            5.0           1.9   \n",
       "147  148            6.5           3.0            5.2           2.0   \n",
       "148  149            6.2           3.4            5.4           2.3   \n",
       "149  150            5.9           3.0            5.1           1.8   \n",
       "\n",
       "            Species  \n",
       "0       Iris-setosa  \n",
       "1       Iris-setosa  \n",
       "2       Iris-setosa  \n",
       "3       Iris-setosa  \n",
       "4       Iris-setosa  \n",
       "..              ...  \n",
       "145  Iris-virginica  \n",
       "146  Iris-virginica  \n",
       "147  Iris-virginica  \n",
       "148  Iris-virginica  \n",
       "149  Iris-virginica  \n",
       "\n",
       "[150 rows x 6 columns]"
      ]
     },
     "execution_count": 2,
     "metadata": {},
     "output_type": "execute_result"
    }
   ],
   "source": [
    "ds=pd.read_csv('task3_iris.csv')\n",
    "ds"
   ]
  },
  {
   "cell_type": "code",
   "execution_count": 3,
   "metadata": {},
   "outputs": [
    {
     "data": {
      "text/html": [
       "<div>\n",
       "<style scoped>\n",
       "    .dataframe tbody tr th:only-of-type {\n",
       "        vertical-align: middle;\n",
       "    }\n",
       "\n",
       "    .dataframe tbody tr th {\n",
       "        vertical-align: top;\n",
       "    }\n",
       "\n",
       "    .dataframe thead th {\n",
       "        text-align: right;\n",
       "    }\n",
       "</style>\n",
       "<table border=\"1\" class=\"dataframe\">\n",
       "  <thead>\n",
       "    <tr style=\"text-align: right;\">\n",
       "      <th></th>\n",
       "      <th>Id</th>\n",
       "      <th>SepalLengthCm</th>\n",
       "      <th>SepalWidthCm</th>\n",
       "      <th>PetalLengthCm</th>\n",
       "      <th>PetalWidthCm</th>\n",
       "    </tr>\n",
       "  </thead>\n",
       "  <tbody>\n",
       "    <tr>\n",
       "      <th>count</th>\n",
       "      <td>150.000000</td>\n",
       "      <td>150.000000</td>\n",
       "      <td>150.000000</td>\n",
       "      <td>150.000000</td>\n",
       "      <td>150.000000</td>\n",
       "    </tr>\n",
       "    <tr>\n",
       "      <th>mean</th>\n",
       "      <td>75.500000</td>\n",
       "      <td>5.843333</td>\n",
       "      <td>3.054000</td>\n",
       "      <td>3.758667</td>\n",
       "      <td>1.198667</td>\n",
       "    </tr>\n",
       "    <tr>\n",
       "      <th>std</th>\n",
       "      <td>43.445368</td>\n",
       "      <td>0.828066</td>\n",
       "      <td>0.433594</td>\n",
       "      <td>1.764420</td>\n",
       "      <td>0.763161</td>\n",
       "    </tr>\n",
       "    <tr>\n",
       "      <th>min</th>\n",
       "      <td>1.000000</td>\n",
       "      <td>4.300000</td>\n",
       "      <td>2.000000</td>\n",
       "      <td>1.000000</td>\n",
       "      <td>0.100000</td>\n",
       "    </tr>\n",
       "    <tr>\n",
       "      <th>25%</th>\n",
       "      <td>38.250000</td>\n",
       "      <td>5.100000</td>\n",
       "      <td>2.800000</td>\n",
       "      <td>1.600000</td>\n",
       "      <td>0.300000</td>\n",
       "    </tr>\n",
       "    <tr>\n",
       "      <th>50%</th>\n",
       "      <td>75.500000</td>\n",
       "      <td>5.800000</td>\n",
       "      <td>3.000000</td>\n",
       "      <td>4.350000</td>\n",
       "      <td>1.300000</td>\n",
       "    </tr>\n",
       "    <tr>\n",
       "      <th>75%</th>\n",
       "      <td>112.750000</td>\n",
       "      <td>6.400000</td>\n",
       "      <td>3.300000</td>\n",
       "      <td>5.100000</td>\n",
       "      <td>1.800000</td>\n",
       "    </tr>\n",
       "    <tr>\n",
       "      <th>max</th>\n",
       "      <td>150.000000</td>\n",
       "      <td>7.900000</td>\n",
       "      <td>4.400000</td>\n",
       "      <td>6.900000</td>\n",
       "      <td>2.500000</td>\n",
       "    </tr>\n",
       "  </tbody>\n",
       "</table>\n",
       "</div>"
      ],
      "text/plain": [
       "               Id  SepalLengthCm  SepalWidthCm  PetalLengthCm  PetalWidthCm\n",
       "count  150.000000     150.000000    150.000000     150.000000    150.000000\n",
       "mean    75.500000       5.843333      3.054000       3.758667      1.198667\n",
       "std     43.445368       0.828066      0.433594       1.764420      0.763161\n",
       "min      1.000000       4.300000      2.000000       1.000000      0.100000\n",
       "25%     38.250000       5.100000      2.800000       1.600000      0.300000\n",
       "50%     75.500000       5.800000      3.000000       4.350000      1.300000\n",
       "75%    112.750000       6.400000      3.300000       5.100000      1.800000\n",
       "max    150.000000       7.900000      4.400000       6.900000      2.500000"
      ]
     },
     "execution_count": 3,
     "metadata": {},
     "output_type": "execute_result"
    }
   ],
   "source": [
    "ds.describe()"
   ]
  },
  {
   "cell_type": "code",
   "execution_count": 4,
   "metadata": {},
   "outputs": [
    {
     "data": {
      "text/html": [
       "<div>\n",
       "<style scoped>\n",
       "    .dataframe tbody tr th:only-of-type {\n",
       "        vertical-align: middle;\n",
       "    }\n",
       "\n",
       "    .dataframe tbody tr th {\n",
       "        vertical-align: top;\n",
       "    }\n",
       "\n",
       "    .dataframe thead th {\n",
       "        text-align: right;\n",
       "    }\n",
       "</style>\n",
       "<table border=\"1\" class=\"dataframe\">\n",
       "  <thead>\n",
       "    <tr style=\"text-align: right;\">\n",
       "      <th></th>\n",
       "      <th>SepalLengthCm</th>\n",
       "      <th>SepalWidthCm</th>\n",
       "      <th>PetalLengthCm</th>\n",
       "      <th>PetalWidthCm</th>\n",
       "      <th>Species</th>\n",
       "    </tr>\n",
       "  </thead>\n",
       "  <tbody>\n",
       "    <tr>\n",
       "      <th>0</th>\n",
       "      <td>5.1</td>\n",
       "      <td>3.5</td>\n",
       "      <td>1.4</td>\n",
       "      <td>0.2</td>\n",
       "      <td>Iris-setosa</td>\n",
       "    </tr>\n",
       "    <tr>\n",
       "      <th>1</th>\n",
       "      <td>4.9</td>\n",
       "      <td>3.0</td>\n",
       "      <td>1.4</td>\n",
       "      <td>0.2</td>\n",
       "      <td>Iris-setosa</td>\n",
       "    </tr>\n",
       "    <tr>\n",
       "      <th>2</th>\n",
       "      <td>4.7</td>\n",
       "      <td>3.2</td>\n",
       "      <td>1.3</td>\n",
       "      <td>0.2</td>\n",
       "      <td>Iris-setosa</td>\n",
       "    </tr>\n",
       "    <tr>\n",
       "      <th>3</th>\n",
       "      <td>4.6</td>\n",
       "      <td>3.1</td>\n",
       "      <td>1.5</td>\n",
       "      <td>0.2</td>\n",
       "      <td>Iris-setosa</td>\n",
       "    </tr>\n",
       "    <tr>\n",
       "      <th>4</th>\n",
       "      <td>5.0</td>\n",
       "      <td>3.6</td>\n",
       "      <td>1.4</td>\n",
       "      <td>0.2</td>\n",
       "      <td>Iris-setosa</td>\n",
       "    </tr>\n",
       "    <tr>\n",
       "      <th>...</th>\n",
       "      <td>...</td>\n",
       "      <td>...</td>\n",
       "      <td>...</td>\n",
       "      <td>...</td>\n",
       "      <td>...</td>\n",
       "    </tr>\n",
       "    <tr>\n",
       "      <th>145</th>\n",
       "      <td>6.7</td>\n",
       "      <td>3.0</td>\n",
       "      <td>5.2</td>\n",
       "      <td>2.3</td>\n",
       "      <td>Iris-virginica</td>\n",
       "    </tr>\n",
       "    <tr>\n",
       "      <th>146</th>\n",
       "      <td>6.3</td>\n",
       "      <td>2.5</td>\n",
       "      <td>5.0</td>\n",
       "      <td>1.9</td>\n",
       "      <td>Iris-virginica</td>\n",
       "    </tr>\n",
       "    <tr>\n",
       "      <th>147</th>\n",
       "      <td>6.5</td>\n",
       "      <td>3.0</td>\n",
       "      <td>5.2</td>\n",
       "      <td>2.0</td>\n",
       "      <td>Iris-virginica</td>\n",
       "    </tr>\n",
       "    <tr>\n",
       "      <th>148</th>\n",
       "      <td>6.2</td>\n",
       "      <td>3.4</td>\n",
       "      <td>5.4</td>\n",
       "      <td>2.3</td>\n",
       "      <td>Iris-virginica</td>\n",
       "    </tr>\n",
       "    <tr>\n",
       "      <th>149</th>\n",
       "      <td>5.9</td>\n",
       "      <td>3.0</td>\n",
       "      <td>5.1</td>\n",
       "      <td>1.8</td>\n",
       "      <td>Iris-virginica</td>\n",
       "    </tr>\n",
       "  </tbody>\n",
       "</table>\n",
       "<p>150 rows × 5 columns</p>\n",
       "</div>"
      ],
      "text/plain": [
       "     SepalLengthCm  SepalWidthCm  PetalLengthCm  PetalWidthCm         Species\n",
       "0              5.1           3.5            1.4           0.2     Iris-setosa\n",
       "1              4.9           3.0            1.4           0.2     Iris-setosa\n",
       "2              4.7           3.2            1.3           0.2     Iris-setosa\n",
       "3              4.6           3.1            1.5           0.2     Iris-setosa\n",
       "4              5.0           3.6            1.4           0.2     Iris-setosa\n",
       "..             ...           ...            ...           ...             ...\n",
       "145            6.7           3.0            5.2           2.3  Iris-virginica\n",
       "146            6.3           2.5            5.0           1.9  Iris-virginica\n",
       "147            6.5           3.0            5.2           2.0  Iris-virginica\n",
       "148            6.2           3.4            5.4           2.3  Iris-virginica\n",
       "149            5.9           3.0            5.1           1.8  Iris-virginica\n",
       "\n",
       "[150 rows x 5 columns]"
      ]
     },
     "execution_count": 4,
     "metadata": {},
     "output_type": "execute_result"
    }
   ],
   "source": [
    "ds.drop(['Id'],axis=1,inplace=True)\n",
    "ds"
   ]
  },
  {
   "cell_type": "code",
   "execution_count": 5,
   "metadata": {},
   "outputs": [
    {
     "data": {
      "text/plain": [
       "SepalLengthCm    False\n",
       "SepalWidthCm     False\n",
       "PetalLengthCm    False\n",
       "PetalWidthCm     False\n",
       "Species          False\n",
       "dtype: bool"
      ]
     },
     "execution_count": 5,
     "metadata": {},
     "output_type": "execute_result"
    }
   ],
   "source": [
    "ds.isnull().any()"
   ]
  },
  {
   "cell_type": "code",
   "execution_count": 6,
   "metadata": {},
   "outputs": [
    {
     "data": {
      "text/plain": [
       "Iris-setosa        50\n",
       "Iris-virginica     50\n",
       "Iris-versicolor    50\n",
       "Name: Species, dtype: int64"
      ]
     },
     "execution_count": 6,
     "metadata": {},
     "output_type": "execute_result"
    }
   ],
   "source": [
    "ds.iloc[:,-1].value_counts()"
   ]
  },
  {
   "cell_type": "code",
   "execution_count": 7,
   "metadata": {},
   "outputs": [],
   "source": [
    "from sklearn.preprocessing import LabelEncoder"
   ]
  },
  {
   "cell_type": "code",
   "execution_count": 8,
   "metadata": {},
   "outputs": [
    {
     "data": {
      "text/html": [
       "<div>\n",
       "<style scoped>\n",
       "    .dataframe tbody tr th:only-of-type {\n",
       "        vertical-align: middle;\n",
       "    }\n",
       "\n",
       "    .dataframe tbody tr th {\n",
       "        vertical-align: top;\n",
       "    }\n",
       "\n",
       "    .dataframe thead th {\n",
       "        text-align: right;\n",
       "    }\n",
       "</style>\n",
       "<table border=\"1\" class=\"dataframe\">\n",
       "  <thead>\n",
       "    <tr style=\"text-align: right;\">\n",
       "      <th></th>\n",
       "      <th>SepalLengthCm</th>\n",
       "      <th>SepalWidthCm</th>\n",
       "      <th>PetalLengthCm</th>\n",
       "      <th>PetalWidthCm</th>\n",
       "      <th>Species</th>\n",
       "    </tr>\n",
       "  </thead>\n",
       "  <tbody>\n",
       "    <tr>\n",
       "      <th>0</th>\n",
       "      <td>5.1</td>\n",
       "      <td>3.5</td>\n",
       "      <td>1.4</td>\n",
       "      <td>0.2</td>\n",
       "      <td>0</td>\n",
       "    </tr>\n",
       "    <tr>\n",
       "      <th>1</th>\n",
       "      <td>4.9</td>\n",
       "      <td>3.0</td>\n",
       "      <td>1.4</td>\n",
       "      <td>0.2</td>\n",
       "      <td>0</td>\n",
       "    </tr>\n",
       "    <tr>\n",
       "      <th>2</th>\n",
       "      <td>4.7</td>\n",
       "      <td>3.2</td>\n",
       "      <td>1.3</td>\n",
       "      <td>0.2</td>\n",
       "      <td>0</td>\n",
       "    </tr>\n",
       "    <tr>\n",
       "      <th>3</th>\n",
       "      <td>4.6</td>\n",
       "      <td>3.1</td>\n",
       "      <td>1.5</td>\n",
       "      <td>0.2</td>\n",
       "      <td>0</td>\n",
       "    </tr>\n",
       "    <tr>\n",
       "      <th>4</th>\n",
       "      <td>5.0</td>\n",
       "      <td>3.6</td>\n",
       "      <td>1.4</td>\n",
       "      <td>0.2</td>\n",
       "      <td>0</td>\n",
       "    </tr>\n",
       "    <tr>\n",
       "      <th>...</th>\n",
       "      <td>...</td>\n",
       "      <td>...</td>\n",
       "      <td>...</td>\n",
       "      <td>...</td>\n",
       "      <td>...</td>\n",
       "    </tr>\n",
       "    <tr>\n",
       "      <th>145</th>\n",
       "      <td>6.7</td>\n",
       "      <td>3.0</td>\n",
       "      <td>5.2</td>\n",
       "      <td>2.3</td>\n",
       "      <td>2</td>\n",
       "    </tr>\n",
       "    <tr>\n",
       "      <th>146</th>\n",
       "      <td>6.3</td>\n",
       "      <td>2.5</td>\n",
       "      <td>5.0</td>\n",
       "      <td>1.9</td>\n",
       "      <td>2</td>\n",
       "    </tr>\n",
       "    <tr>\n",
       "      <th>147</th>\n",
       "      <td>6.5</td>\n",
       "      <td>3.0</td>\n",
       "      <td>5.2</td>\n",
       "      <td>2.0</td>\n",
       "      <td>2</td>\n",
       "    </tr>\n",
       "    <tr>\n",
       "      <th>148</th>\n",
       "      <td>6.2</td>\n",
       "      <td>3.4</td>\n",
       "      <td>5.4</td>\n",
       "      <td>2.3</td>\n",
       "      <td>2</td>\n",
       "    </tr>\n",
       "    <tr>\n",
       "      <th>149</th>\n",
       "      <td>5.9</td>\n",
       "      <td>3.0</td>\n",
       "      <td>5.1</td>\n",
       "      <td>1.8</td>\n",
       "      <td>2</td>\n",
       "    </tr>\n",
       "  </tbody>\n",
       "</table>\n",
       "<p>150 rows × 5 columns</p>\n",
       "</div>"
      ],
      "text/plain": [
       "     SepalLengthCm  SepalWidthCm  PetalLengthCm  PetalWidthCm  Species\n",
       "0              5.1           3.5            1.4           0.2        0\n",
       "1              4.9           3.0            1.4           0.2        0\n",
       "2              4.7           3.2            1.3           0.2        0\n",
       "3              4.6           3.1            1.5           0.2        0\n",
       "4              5.0           3.6            1.4           0.2        0\n",
       "..             ...           ...            ...           ...      ...\n",
       "145            6.7           3.0            5.2           2.3        2\n",
       "146            6.3           2.5            5.0           1.9        2\n",
       "147            6.5           3.0            5.2           2.0        2\n",
       "148            6.2           3.4            5.4           2.3        2\n",
       "149            5.9           3.0            5.1           1.8        2\n",
       "\n",
       "[150 rows x 5 columns]"
      ]
     },
     "execution_count": 8,
     "metadata": {},
     "output_type": "execute_result"
    }
   ],
   "source": [
    "lb=LabelEncoder()\n",
    "ds.iloc[:,-1]=lb.fit_transform(ds.iloc[:,-1])\n",
    "ds"
   ]
  },
  {
   "cell_type": "code",
   "execution_count": 9,
   "metadata": {},
   "outputs": [],
   "source": [
    "import seaborn as sns"
   ]
  },
  {
   "cell_type": "code",
   "execution_count": 10,
   "metadata": {},
   "outputs": [
    {
     "data": {
      "text/plain": [
       "<matplotlib.axes._subplots.AxesSubplot at 0x24347fa80c8>"
      ]
     },
     "execution_count": 10,
     "metadata": {},
     "output_type": "execute_result"
    },
    {
     "data": {
      "image/png": "[encoded data removed]",
      "text/plain": [
       "<Figure size 432x288 with 1 Axes>"
      ]
     },
     "metadata": {
      "needs_background": "light"
     },
     "output_type": "display_data"
    }
   ],
   "source": [
    "sns.boxplot(ds['SepalLengthCm'])"
   ]
  },
  {
   "cell_type": "code",
   "execution_count": 11,
   "metadata": {},
   "outputs": [
    {
     "data": {
      "text/plain": [
       "<matplotlib.axes._subplots.AxesSubplot at 0x2434df36448>"
      ]
     },
     "execution_count": 11,
     "metadata": {},
     "output_type": "execute_result"
    },
    {
     "data": {
      "image/png": "[encoded data removed]",
      "text/plain": [
       "<Figure size 432x288 with 1 Axes>"
      ]
     },
     "metadata": {
      "needs_background": "light"
     },
     "output_type": "display_data"
    }
   ],
   "source": [
    "sns.boxplot(x=ds['SepalWidthCm'])"
   ]
  },
  {
   "cell_type": "code",
   "execution_count": 12,
   "metadata": {},
   "outputs": [
    {
     "data": {
      "text/plain": [
       "<matplotlib.axes._subplots.AxesSubplot at 0x2434dff9b48>"
      ]
     },
     "execution_count": 12,
     "metadata": {},
     "output_type": "execute_result"
    },
    {
     "data": {
      "image/png": "[encoded data removed]",
      "text/plain": [
       "<Figure size 432x288 with 1 Axes>"
      ]
     },
     "metadata": {
      "needs_background": "light"
     },
     "output_type": "display_data"
    }
   ],
   "source": [
    "sns.boxplot(x=ds['PetalLengthCm'])"
   ]
  },
  {
   "cell_type": "code",
   "execution_count": 13,
   "metadata": {},
   "outputs": [
    {
     "data": {
      "text/plain": [
       "<matplotlib.axes._subplots.AxesSubplot at 0x2434e05fd48>"
      ]
     },
     "execution_count": 13,
     "metadata": {},
     "output_type": "execute_result"
    },
    {
     "data": {
      "image/png": "[encoded data removed]",
      "text/plain": [
       "<Figure size 432x288 with 1 Axes>"
      ]
     },
     "metadata": {
      "needs_background": "light"
     },
     "output_type": "display_data"
    }
   ],
   "source": [
    "sns.boxplot(x=ds['PetalWidthCm'])"
   ]
  },
  {
   "cell_type": "code",
   "execution_count": 14,
   "metadata": {},
   "outputs": [
    {
     "data": {
      "text/plain": [
       "SepalLengthCm    1.3\n",
       "SepalWidthCm     0.5\n",
       "PetalLengthCm    3.5\n",
       "PetalWidthCm     1.5\n",
       "Species          2.0\n",
       "dtype: float64"
      ]
     },
     "execution_count": 14,
     "metadata": {},
     "output_type": "execute_result"
    }
   ],
   "source": [
    "q1=ds.quantile(0.25)\n",
    "q3=ds.quantile(0.75)\n",
    "iqr=q3-q1\n",
    "iqr"
   ]
  },
  {
   "cell_type": "code",
   "execution_count": 15,
   "metadata": {},
   "outputs": [
    {
     "data": {
      "text/html": [
       "<div>\n",
       "<style scoped>\n",
       "    .dataframe tbody tr th:only-of-type {\n",
       "        vertical-align: middle;\n",
       "    }\n",
       "\n",
       "    .dataframe tbody tr th {\n",
       "        vertical-align: top;\n",
       "    }\n",
       "\n",
       "    .dataframe thead th {\n",
       "        text-align: right;\n",
       "    }\n",
       "</style>\n",
       "<table border=\"1\" class=\"dataframe\">\n",
       "  <thead>\n",
       "    <tr style=\"text-align: right;\">\n",
       "      <th></th>\n",
       "      <th>SepalLengthCm</th>\n",
       "      <th>SepalWidthCm</th>\n",
       "      <th>PetalLengthCm</th>\n",
       "      <th>PetalWidthCm</th>\n",
       "      <th>Species</th>\n",
       "    </tr>\n",
       "  </thead>\n",
       "  <tbody>\n",
       "    <tr>\n",
       "      <th>0</th>\n",
       "      <td>5.1</td>\n",
       "      <td>3.5</td>\n",
       "      <td>1.4</td>\n",
       "      <td>0.2</td>\n",
       "      <td>0</td>\n",
       "    </tr>\n",
       "    <tr>\n",
       "      <th>1</th>\n",
       "      <td>4.9</td>\n",
       "      <td>3.0</td>\n",
       "      <td>1.4</td>\n",
       "      <td>0.2</td>\n",
       "      <td>0</td>\n",
       "    </tr>\n",
       "    <tr>\n",
       "      <th>2</th>\n",
       "      <td>4.7</td>\n",
       "      <td>3.2</td>\n",
       "      <td>1.3</td>\n",
       "      <td>0.2</td>\n",
       "      <td>0</td>\n",
       "    </tr>\n",
       "    <tr>\n",
       "      <th>3</th>\n",
       "      <td>4.6</td>\n",
       "      <td>3.1</td>\n",
       "      <td>1.5</td>\n",
       "      <td>0.2</td>\n",
       "      <td>0</td>\n",
       "    </tr>\n",
       "    <tr>\n",
       "      <th>4</th>\n",
       "      <td>5.0</td>\n",
       "      <td>3.6</td>\n",
       "      <td>1.4</td>\n",
       "      <td>0.2</td>\n",
       "      <td>0</td>\n",
       "    </tr>\n",
       "    <tr>\n",
       "      <th>...</th>\n",
       "      <td>...</td>\n",
       "      <td>...</td>\n",
       "      <td>...</td>\n",
       "      <td>...</td>\n",
       "      <td>...</td>\n",
       "    </tr>\n",
       "    <tr>\n",
       "      <th>145</th>\n",
       "      <td>6.7</td>\n",
       "      <td>3.0</td>\n",
       "      <td>5.2</td>\n",
       "      <td>2.3</td>\n",
       "      <td>2</td>\n",
       "    </tr>\n",
       "    <tr>\n",
       "      <th>146</th>\n",
       "      <td>6.3</td>\n",
       "      <td>2.5</td>\n",
       "      <td>5.0</td>\n",
       "      <td>1.9</td>\n",
       "      <td>2</td>\n",
       "    </tr>\n",
       "    <tr>\n",
       "      <th>147</th>\n",
       "      <td>6.5</td>\n",
       "      <td>3.0</td>\n",
       "      <td>5.2</td>\n",
       "      <td>2.0</td>\n",
       "      <td>2</td>\n",
       "    </tr>\n",
       "    <tr>\n",
       "      <th>148</th>\n",
       "      <td>6.2</td>\n",
       "      <td>3.4</td>\n",
       "      <td>5.4</td>\n",
       "      <td>2.3</td>\n",
       "      <td>2</td>\n",
       "    </tr>\n",
       "    <tr>\n",
       "      <th>149</th>\n",
       "      <td>5.9</td>\n",
       "      <td>3.0</td>\n",
       "      <td>5.1</td>\n",
       "      <td>1.8</td>\n",
       "      <td>2</td>\n",
       "    </tr>\n",
       "  </tbody>\n",
       "</table>\n",
       "<p>146 rows × 5 columns</p>\n",
       "</div>"
      ],
      "text/plain": [
       "     SepalLengthCm  SepalWidthCm  PetalLengthCm  PetalWidthCm  Species\n",
       "0              5.1           3.5            1.4           0.2        0\n",
       "1              4.9           3.0            1.4           0.2        0\n",
       "2              4.7           3.2            1.3           0.2        0\n",
       "3              4.6           3.1            1.5           0.2        0\n",
       "4              5.0           3.6            1.4           0.2        0\n",
       "..             ...           ...            ...           ...      ...\n",
       "145            6.7           3.0            5.2           2.3        2\n",
       "146            6.3           2.5            5.0           1.9        2\n",
       "147            6.5           3.0            5.2           2.0        2\n",
       "148            6.2           3.4            5.4           2.3        2\n",
       "149            5.9           3.0            5.1           1.8        2\n",
       "\n",
       "[146 rows x 5 columns]"
      ]
     },
     "execution_count": 15,
     "metadata": {},
     "output_type": "execute_result"
    }
   ],
   "source": [
    "ds=ds[~((ds<(q1-1.5*iqr))|(ds>(q3+1.5*iqr))).any(axis=1)]\n",
    "ds"
   ]
  },
  {
   "cell_type": "code",
   "execution_count": 16,
   "metadata": {},
   "outputs": [
    {
     "data": {
      "text/plain": [
       "array([[0.9105154 , 1.1757891 , 1.3748782 , 1.34589856, 1.25245467],\n",
       "       [1.15112218, 0.09392398, 1.3748782 , 1.34589856, 1.25245467],\n",
       "       [1.39172896, 0.41396125, 1.43198551, 1.34589856, 1.25245467],\n",
       "       [1.51203236, 0.16001863, 1.31777088, 1.34589856, 1.25245467],\n",
       "       [1.03081879, 1.42973171, 1.3748782 , 1.34589856, 1.25245467],\n",
       "       [0.54960522, 2.19155956, 1.20355625, 1.08196143, 1.25245467],\n",
       "       [1.51203236, 0.92184648, 1.3748782 , 1.21392999, 1.25245467],\n",
       "       [1.03081879, 0.92184648, 1.31777088, 1.34589856, 1.25245467],\n",
       "       [1.75263914, 0.3478666 , 1.3748782 , 1.34589856, 1.25245467],\n",
       "       [1.15112218, 0.16001863, 1.31777088, 1.47786712, 1.25245467],\n",
       "       [0.54960522, 1.68367433, 1.31777088, 1.34589856, 1.25245467],\n",
       "       [1.27142557, 0.92184648, 1.26066356, 1.34589856, 1.25245467],\n",
       "       [1.27142557, 0.09392398, 1.3748782 , 1.47786712, 1.25245467],\n",
       "       [1.87294253, 0.09392398, 1.54620014, 1.47786712, 1.25245467],\n",
       "       [0.06839165, 2.44550218, 1.48909283, 1.34589856, 1.25245467],\n",
       "       [0.54960522, 2.19155956, 1.43198551, 1.08196143, 1.25245467],\n",
       "       [0.9105154 , 1.1757891 , 1.3748782 , 1.21392999, 1.25245467],\n",
       "       [0.18869505, 1.93761695, 1.20355625, 1.21392999, 1.25245467],\n",
       "       [0.9105154 , 1.93761695, 1.31777088, 1.21392999, 1.25245467],\n",
       "       [0.54960522, 0.92184648, 1.20355625, 1.34589856, 1.25245467],\n",
       "       [0.9105154 , 1.68367433, 1.31777088, 1.08196143, 1.25245467],\n",
       "       [1.51203236, 1.42973171, 1.60330746, 1.34589856, 1.25245467],\n",
       "       [0.9105154 , 0.66790387, 1.20355625, 0.94999287, 1.25245467],\n",
       "       [1.27142557, 0.92184648, 1.08934161, 1.34589856, 1.25245467],\n",
       "       [1.03081879, 0.09392398, 1.26066356, 1.34589856, 1.25245467],\n",
       "       [1.03081879, 0.92184648, 1.26066356, 1.08196143, 1.25245467],\n",
       "       [0.790212  , 1.1757891 , 1.31777088, 1.34589856, 1.25245467],\n",
       "       [0.790212  , 0.92184648, 1.3748782 , 1.34589856, 1.25245467],\n",
       "       [1.39172896, 0.41396125, 1.26066356, 1.34589856, 1.25245467],\n",
       "       [1.27142557, 0.16001863, 1.26066356, 1.34589856, 1.25245467],\n",
       "       [0.54960522, 0.92184648, 1.31777088, 1.08196143, 1.25245467],\n",
       "       [1.15112218, 0.16001863, 1.31777088, 1.47786712, 1.25245467],\n",
       "       [1.03081879, 0.41396125, 1.48909283, 1.34589856, 1.25245467],\n",
       "       [0.42930183, 1.1757891 , 1.43198551, 1.34589856, 1.25245467],\n",
       "       [1.15112218, 0.16001863, 1.31777088, 1.47786712, 1.25245467],\n",
       "       [1.75263914, 0.09392398, 1.43198551, 1.34589856, 1.25245467],\n",
       "       [0.9105154 , 0.92184648, 1.31777088, 1.34589856, 1.25245467],\n",
       "       [1.03081879, 1.1757891 , 1.43198551, 1.21392999, 1.25245467],\n",
       "       [1.63233575, 1.87152229, 1.43198551, 1.21392999, 1.25245467],\n",
       "       [1.75263914, 0.41396125, 1.43198551, 1.34589856, 1.25245467],\n",
       "       [1.03081879, 1.1757891 , 1.26066356, 0.81802431, 1.25245467],\n",
       "       [0.9105154 , 1.93761695, 1.08934161, 1.08196143, 1.25245467],\n",
       "       [1.27142557, 0.09392398, 1.3748782 , 1.21392999, 1.25245467],\n",
       "       [0.9105154 , 1.93761695, 1.26066356, 1.34589856, 1.25245467],\n",
       "       [1.51203236, 0.41396125, 1.3748782 , 1.34589856, 1.25245467],\n",
       "       [0.66990861, 1.68367433, 1.31777088, 1.34589856, 1.25245467],\n",
       "       [1.03081879, 0.66790387, 1.3748782 , 1.34589856, 1.25245467],\n",
       "       [1.37524905, 0.41396125, 0.50966324, 0.23772419, 0.02521721],\n",
       "       [0.6534287 , 0.41396125, 0.39544861, 0.36969275, 0.02521721],\n",
       "       [1.25494566, 0.16001863, 0.62387787, 0.36969275, 0.02521721],\n",
       "       [0.42930183, 1.87152229, 0.10991203, 0.10575563, 0.02521721],\n",
       "       [0.77373209, 0.60180921, 0.45255592, 0.36969275, 0.02521721],\n",
       "       [0.18869505, 0.60180921, 0.39544861, 0.10575563, 0.02521721],\n",
       "       [0.5331253 , 0.66790387, 0.50966324, 0.50166132, 0.02521721],\n",
       "       [1.15112218, 1.61757968, 0.28983919, 0.29015006, 0.02521721],\n",
       "       [0.89403548, 0.3478666 , 0.45255592, 0.10575563, 0.02521721],\n",
       "       [0.790212  , 0.85575183, 0.05280471, 0.23772419, 0.02521721],\n",
       "       [0.05191174, 0.09392398, 0.22412666, 0.36969275, 0.02521721],\n",
       "       [0.17221513, 2.12546491, 0.10991203, 0.29015006, 0.02521721],\n",
       "       [0.29251852, 0.3478666 , 0.50966324, 0.23772419, 0.02521721],\n",
       "       [0.30899844, 0.3478666 , 0.11851724, 0.10575563, 0.02521721],\n",
       "       [1.01433887, 0.16001863, 0.33834129, 0.23772419, 0.02521721],\n",
       "       [0.30899844, 0.09392398, 0.39544861, 0.36969275, 0.02521721],\n",
       "       [0.06839165, 0.85575183, 0.16701934, 0.29015006, 0.02521721],\n",
       "       [0.41282191, 2.12546491, 0.39544861, 0.36969275, 0.02521721],\n",
       "       [0.30899844, 1.36363706, 0.05280471, 0.1581815 , 0.02521721],\n",
       "       [0.05191174, 0.41396125, 0.56677056, 0.76559844, 0.02521721],\n",
       "       [0.29251852, 0.60180921, 0.10991203, 0.10575563, 0.02521721],\n",
       "       [0.5331253 , 1.36363706, 0.62387787, 0.36969275, 0.02521721],\n",
       "       [0.29251852, 0.60180921, 0.50966324, 0.02621293, 0.02521721],\n",
       "       [0.6534287 , 0.3478666 , 0.28123398, 0.10575563, 0.02521721],\n",
       "       [0.89403548, 0.09392398, 0.33834129, 0.23772419, 0.02521721],\n",
       "       [1.13464226, 0.60180921, 0.56677056, 0.23772419, 0.02521721],\n",
       "       [1.01433887, 0.09392398, 0.68098519, 0.63362988, 0.02521721],\n",
       "       [0.17221513, 0.3478666 , 0.39544861, 0.36969275, 0.02521721],\n",
       "       [0.18869505, 1.10969444, 0.17562455, 0.29015006, 0.02521721],\n",
       "       [0.42930183, 1.61757968, 0.00430261, 0.1581815 , 0.02521721],\n",
       "       [0.42930183, 1.61757968, 0.06140992, 0.29015006, 0.02521721],\n",
       "       [0.06839165, 0.85575183, 0.05280471, 0.02621293, 0.02521721],\n",
       "       [0.17221513, 0.85575183, 0.73809251, 0.50166132, 0.02521721],\n",
       "       [0.54960522, 0.09392398, 0.39544861, 0.36969275, 0.02521721],\n",
       "       [0.17221513, 0.92184648, 0.39544861, 0.50166132, 0.02521721],\n",
       "       [1.01433887, 0.16001863, 0.50966324, 0.36969275, 0.02521721],\n",
       "       [0.5331253 , 1.87152229, 0.33834129, 0.10575563, 0.02521721],\n",
       "       [0.30899844, 0.09392398, 0.16701934, 0.10575563, 0.02521721],\n",
       "       [0.42930183, 1.36363706, 0.10991203, 0.10575563, 0.02521721],\n",
       "       [0.42930183, 1.10969444, 0.33834129, 0.02621293, 0.02521721],\n",
       "       [0.29251852, 0.09392398, 0.45255592, 0.23772419, 0.02521721],\n",
       "       [0.06839165, 1.10969444, 0.10991203, 0.02621293, 0.02521721],\n",
       "       [1.03081879, 1.87152229, 0.28983919, 0.29015006, 0.02521721],\n",
       "       [0.30899844, 0.85575183, 0.22412666, 0.10575563, 0.02521721],\n",
       "       [0.18869505, 0.09392398, 0.22412666, 0.02621293, 0.02521721],\n",
       "       [0.18869505, 0.3478666 , 0.22412666, 0.10575563, 0.02521721],\n",
       "       [0.41282191, 0.3478666 , 0.28123398, 0.10575563, 0.02521721],\n",
       "       [0.9105154 , 1.36363706, 0.46116114, 0.1581815 , 0.02521721],\n",
       "       [0.18869505, 0.60180921, 0.16701934, 0.10575563, 0.02521721],\n",
       "       [0.5331253 , 0.66790387, 1.25205835, 1.68937838, 1.20202025],\n",
       "       [0.06839165, 0.85575183, 0.73809251, 0.897567  , 1.20202025],\n",
       "       [1.49555244, 0.09392398, 1.19495103, 1.16150413, 1.20202025],\n",
       "       [0.5331253 , 0.3478666 , 1.02362909, 0.76559844, 1.20202025],\n",
       "       [0.77373209, 0.09392398, 1.13784372, 1.29347269, 1.20202025],\n",
       "       [2.0970694 , 0.09392398, 1.59470225, 1.16150413, 1.20202025],\n",
       "       [1.15112218, 1.36363706, 0.39544861, 0.63362988, 1.20202025],\n",
       "       [1.73615922, 0.3478666 , 1.4233803 , 0.76559844, 1.20202025],\n",
       "       [1.01433887, 1.36363706, 1.13784372, 0.76559844, 1.20202025],\n",
       "       [1.61585583, 1.42973171, 1.30916567, 1.68937838, 1.20202025],\n",
       "       [0.77373209, 0.41396125, 0.73809251, 1.02953556, 1.20202025],\n",
       "       [0.6534287 , 0.85575183, 0.85230714, 0.897567  , 1.20202025],\n",
       "       [1.13464226, 0.09392398, 0.96652177, 1.16150413, 1.20202025],\n",
       "       [0.18869505, 1.36363706, 0.68098519, 1.02953556, 1.20202025],\n",
       "       [0.06839165, 0.60180921, 0.73809251, 1.55740981, 1.20202025],\n",
       "       [0.6534287 , 0.41396125, 0.85230714, 1.42544125, 1.20202025],\n",
       "       [0.77373209, 0.09392398, 0.96652177, 0.76559844, 1.20202025],\n",
       "       [2.21737279, 1.93761695, 1.65180956, 1.29347269, 1.20202025],\n",
       "       [2.21737279, 1.10969444, 1.7660242 , 1.42544125, 1.20202025],\n",
       "       [0.17221513, 2.12546491, 0.68098519, 0.36969275, 1.20202025],\n",
       "       [1.25494566, 0.41396125, 1.0807364 , 1.42544125, 1.20202025],\n",
       "       [0.30899844, 0.60180921, 0.62387787, 1.02953556, 1.20202025],\n",
       "       [2.21737279, 0.60180921, 1.65180956, 1.02953556, 1.20202025],\n",
       "       [0.5331253 , 0.85575183, 0.62387787, 0.76559844, 1.20202025],\n",
       "       [1.01433887, 0.66790387, 1.0807364 , 1.16150413, 1.20202025],\n",
       "       [1.61585583, 0.41396125, 1.25205835, 0.76559844, 1.20202025],\n",
       "       [0.41282191, 0.60180921, 0.56677056, 0.76559844, 1.20202025],\n",
       "       [0.29251852, 0.09392398, 0.62387787, 0.76559844, 1.20202025],\n",
       "       [0.6534287 , 0.60180921, 1.02362909, 1.16150413, 1.20202025],\n",
       "       [1.61585583, 0.09392398, 1.13784372, 0.50166132, 1.20202025],\n",
       "       [1.85646261, 0.60180921, 1.30916567, 0.897567  , 1.20202025],\n",
       "       [2.45797957, 1.93761695, 1.48048762, 1.02953556, 1.20202025],\n",
       "       [0.6534287 , 0.60180921, 1.02362909, 1.29347269, 1.20202025],\n",
       "       [0.5331253 , 0.60180921, 0.73809251, 0.36969275, 1.20202025],\n",
       "       [0.29251852, 1.10969444, 1.02362909, 0.23772419, 1.20202025],\n",
       "       [2.21737279, 0.09392398, 1.30916567, 1.42544125, 1.20202025],\n",
       "       [0.5331253 , 0.92184648, 1.02362909, 1.55740981, 1.20202025],\n",
       "       [0.6534287 , 0.16001863, 0.96652177, 0.76559844, 1.20202025],\n",
       "       [0.17221513, 0.09392398, 0.56677056, 0.76559844, 1.20202025],\n",
       "       [1.25494566, 0.16001863, 0.90941445, 1.16150413, 1.20202025],\n",
       "       [1.01433887, 0.16001863, 1.02362909, 1.55740981, 1.20202025],\n",
       "       [1.25494566, 0.16001863, 0.73809251, 1.42544125, 1.20202025],\n",
       "       [0.06839165, 0.85575183, 0.73809251, 0.897567  , 1.20202025],\n",
       "       [1.13464226, 0.41396125, 1.19495103, 1.42544125, 1.20202025],\n",
       "       [1.01433887, 0.66790387, 1.0807364 , 1.68937838, 1.20202025],\n",
       "       [1.01433887, 0.09392398, 0.79519982, 1.42544125, 1.20202025],\n",
       "       [0.5331253 , 1.36363706, 0.68098519, 0.897567  , 1.20202025],\n",
       "       [0.77373209, 0.09392398, 0.79519982, 1.02953556, 1.20202025],\n",
       "       [0.41282191, 0.92184648, 0.90941445, 1.42544125, 1.20202025],\n",
       "       [0.05191174, 0.09392398, 0.73809251, 0.76559844, 1.20202025]])"
      ]
     },
     "execution_count": 16,
     "metadata": {},
     "output_type": "execute_result"
    }
   ],
   "source": [
    "from scipy import stats\n",
    "z=np.abs(stats.zscore(ds))\n",
    "z"
   ]
  },
  {
   "cell_type": "code",
   "execution_count": 17,
   "metadata": {},
   "outputs": [
    {
     "data": {
      "text/plain": [
       "(array([], dtype=int64), array([], dtype=int64))"
      ]
     },
     "execution_count": 17,
     "metadata": {},
     "output_type": "execute_result"
    }
   ],
   "source": [
    "threshold=3\n",
    "np.where(z>threshold)"
   ]
  },
  {
   "cell_type": "code",
   "execution_count": 18,
   "metadata": {},
   "outputs": [],
   "source": [
    "x=ds.iloc[:,0:4].values"
   ]
  },
  {
   "cell_type": "code",
   "execution_count": 19,
   "metadata": {},
   "outputs": [
    {
     "data": {
      "text/plain": [
       "array([[5.1, 3.5, 1.4, 0.2],\n",
       "       [4.9, 3. , 1.4, 0.2],\n",
       "       [4.7, 3.2, 1.3, 0.2],\n",
       "       [4.6, 3.1, 1.5, 0.2],\n",
       "       [5. , 3.6, 1.4, 0.2],\n",
       "       [5.4, 3.9, 1.7, 0.4],\n",
       "       [4.6, 3.4, 1.4, 0.3],\n",
       "       [5. , 3.4, 1.5, 0.2],\n",
       "       [4.4, 2.9, 1.4, 0.2],\n",
       "       [4.9, 3.1, 1.5, 0.1],\n",
       "       [5.4, 3.7, 1.5, 0.2],\n",
       "       [4.8, 3.4, 1.6, 0.2],\n",
       "       [4.8, 3. , 1.4, 0.1],\n",
       "       [4.3, 3. , 1.1, 0.1],\n",
       "       [5.8, 4. , 1.2, 0.2],\n",
       "       [5.4, 3.9, 1.3, 0.4],\n",
       "       [5.1, 3.5, 1.4, 0.3],\n",
       "       [5.7, 3.8, 1.7, 0.3],\n",
       "       [5.1, 3.8, 1.5, 0.3],\n",
       "       [5.4, 3.4, 1.7, 0.2],\n",
       "       [5.1, 3.7, 1.5, 0.4],\n",
       "       [4.6, 3.6, 1. , 0.2],\n",
       "       [5.1, 3.3, 1.7, 0.5],\n",
       "       [4.8, 3.4, 1.9, 0.2],\n",
       "       [5. , 3. , 1.6, 0.2],\n",
       "       [5. , 3.4, 1.6, 0.4],\n",
       "       [5.2, 3.5, 1.5, 0.2],\n",
       "       [5.2, 3.4, 1.4, 0.2],\n",
       "       [4.7, 3.2, 1.6, 0.2],\n",
       "       [4.8, 3.1, 1.6, 0.2],\n",
       "       [5.4, 3.4, 1.5, 0.4],\n",
       "       [4.9, 3.1, 1.5, 0.1],\n",
       "       [5. , 3.2, 1.2, 0.2],\n",
       "       [5.5, 3.5, 1.3, 0.2],\n",
       "       [4.9, 3.1, 1.5, 0.1],\n",
       "       [4.4, 3. , 1.3, 0.2],\n",
       "       [5.1, 3.4, 1.5, 0.2],\n",
       "       [5. , 3.5, 1.3, 0.3],\n",
       "       [4.5, 2.3, 1.3, 0.3],\n",
       "       [4.4, 3.2, 1.3, 0.2],\n",
       "       [5. , 3.5, 1.6, 0.6],\n",
       "       [5.1, 3.8, 1.9, 0.4],\n",
       "       [4.8, 3. , 1.4, 0.3],\n",
       "       [5.1, 3.8, 1.6, 0.2],\n",
       "       [4.6, 3.2, 1.4, 0.2],\n",
       "       [5.3, 3.7, 1.5, 0.2],\n",
       "       [5. , 3.3, 1.4, 0.2],\n",
       "       [7. , 3.2, 4.7, 1.4],\n",
       "       [6.4, 3.2, 4.5, 1.5],\n",
       "       [6.9, 3.1, 4.9, 1.5],\n",
       "       [5.5, 2.3, 4. , 1.3],\n",
       "       [6.5, 2.8, 4.6, 1.5],\n",
       "       [5.7, 2.8, 4.5, 1.3],\n",
       "       [6.3, 3.3, 4.7, 1.6],\n",
       "       [4.9, 2.4, 3.3, 1. ],\n",
       "       [6.6, 2.9, 4.6, 1.3],\n",
       "       [5.2, 2.7, 3.9, 1.4],\n",
       "       [5.9, 3. , 4.2, 1.5],\n",
       "       [6. , 2.2, 4. , 1. ],\n",
       "       [6.1, 2.9, 4.7, 1.4],\n",
       "       [5.6, 2.9, 3.6, 1.3],\n",
       "       [6.7, 3.1, 4.4, 1.4],\n",
       "       [5.6, 3. , 4.5, 1.5],\n",
       "       [5.8, 2.7, 4.1, 1. ],\n",
       "       [6.2, 2.2, 4.5, 1.5],\n",
       "       [5.6, 2.5, 3.9, 1.1],\n",
       "       [5.9, 3.2, 4.8, 1.8],\n",
       "       [6.1, 2.8, 4. , 1.3],\n",
       "       [6.3, 2.5, 4.9, 1.5],\n",
       "       [6.1, 2.8, 4.7, 1.2],\n",
       "       [6.4, 2.9, 4.3, 1.3],\n",
       "       [6.6, 3. , 4.4, 1.4],\n",
       "       [6.8, 2.8, 4.8, 1.4],\n",
       "       [6.7, 3. , 5. , 1.7],\n",
       "       [6. , 2.9, 4.5, 1.5],\n",
       "       [5.7, 2.6, 3.5, 1. ],\n",
       "       [5.5, 2.4, 3.8, 1.1],\n",
       "       [5.5, 2.4, 3.7, 1. ],\n",
       "       [5.8, 2.7, 3.9, 1.2],\n",
       "       [6. , 2.7, 5.1, 1.6],\n",
       "       [5.4, 3. , 4.5, 1.5],\n",
       "       [6. , 3.4, 4.5, 1.6],\n",
       "       [6.7, 3.1, 4.7, 1.5],\n",
       "       [6.3, 2.3, 4.4, 1.3],\n",
       "       [5.6, 3. , 4.1, 1.3],\n",
       "       [5.5, 2.5, 4. , 1.3],\n",
       "       [5.5, 2.6, 4.4, 1.2],\n",
       "       [6.1, 3. , 4.6, 1.4],\n",
       "       [5.8, 2.6, 4. , 1.2],\n",
       "       [5. , 2.3, 3.3, 1. ],\n",
       "       [5.6, 2.7, 4.2, 1.3],\n",
       "       [5.7, 3. , 4.2, 1.2],\n",
       "       [5.7, 2.9, 4.2, 1.3],\n",
       "       [6.2, 2.9, 4.3, 1.3],\n",
       "       [5.1, 2.5, 3. , 1.1],\n",
       "       [5.7, 2.8, 4.1, 1.3],\n",
       "       [6.3, 3.3, 6. , 2.5],\n",
       "       [5.8, 2.7, 5.1, 1.9],\n",
       "       [7.1, 3. , 5.9, 2.1],\n",
       "       [6.3, 2.9, 5.6, 1.8],\n",
       "       [6.5, 3. , 5.8, 2.2],\n",
       "       [7.6, 3. , 6.6, 2.1],\n",
       "       [4.9, 2.5, 4.5, 1.7],\n",
       "       [7.3, 2.9, 6.3, 1.8],\n",
       "       [6.7, 2.5, 5.8, 1.8],\n",
       "       [7.2, 3.6, 6.1, 2.5],\n",
       "       [6.5, 3.2, 5.1, 2. ],\n",
       "       [6.4, 2.7, 5.3, 1.9],\n",
       "       [6.8, 3. , 5.5, 2.1],\n",
       "       [5.7, 2.5, 5. , 2. ],\n",
       "       [5.8, 2.8, 5.1, 2.4],\n",
       "       [6.4, 3.2, 5.3, 2.3],\n",
       "       [6.5, 3. , 5.5, 1.8],\n",
       "       [7.7, 3.8, 6.7, 2.2],\n",
       "       [7.7, 2.6, 6.9, 2.3],\n",
       "       [6. , 2.2, 5. , 1.5],\n",
       "       [6.9, 3.2, 5.7, 2.3],\n",
       "       [5.6, 2.8, 4.9, 2. ],\n",
       "       [7.7, 2.8, 6.7, 2. ],\n",
       "       [6.3, 2.7, 4.9, 1.8],\n",
       "       [6.7, 3.3, 5.7, 2.1],\n",
       "       [7.2, 3.2, 6. , 1.8],\n",
       "       [6.2, 2.8, 4.8, 1.8],\n",
       "       [6.1, 3. , 4.9, 1.8],\n",
       "       [6.4, 2.8, 5.6, 2.1],\n",
       "       [7.2, 3. , 5.8, 1.6],\n",
       "       [7.4, 2.8, 6.1, 1.9],\n",
       "       [7.9, 3.8, 6.4, 2. ],\n",
       "       [6.4, 2.8, 5.6, 2.2],\n",
       "       [6.3, 2.8, 5.1, 1.5],\n",
       "       [6.1, 2.6, 5.6, 1.4],\n",
       "       [7.7, 3. , 6.1, 2.3],\n",
       "       [6.3, 3.4, 5.6, 2.4],\n",
       "       [6.4, 3.1, 5.5, 1.8],\n",
       "       [6. , 3. , 4.8, 1.8],\n",
       "       [6.9, 3.1, 5.4, 2.1],\n",
       "       [6.7, 3.1, 5.6, 2.4],\n",
       "       [6.9, 3.1, 5.1, 2.3],\n",
       "       [5.8, 2.7, 5.1, 1.9],\n",
       "       [6.8, 3.2, 5.9, 2.3],\n",
       "       [6.7, 3.3, 5.7, 2.5],\n",
       "       [6.7, 3. , 5.2, 2.3],\n",
       "       [6.3, 2.5, 5. , 1.9],\n",
       "       [6.5, 3. , 5.2, 2. ],\n",
       "       [6.2, 3.4, 5.4, 2.3],\n",
       "       [5.9, 3. , 5.1, 1.8]])"
      ]
     },
     "execution_count": 19,
     "metadata": {},
     "output_type": "execute_result"
    }
   ],
   "source": [
    "x"
   ]
  },
  {
   "cell_type": "code",
   "execution_count": 20,
   "metadata": {},
   "outputs": [
    {
     "data": {
      "text/plain": [
       "array([[-0.9105154 ,  1.1757891 , -1.3748782 , -1.34589856],\n",
       "       [-1.15112218, -0.09392398, -1.3748782 , -1.34589856],\n",
       "       [-1.39172896,  0.41396125, -1.43198551, -1.34589856],\n",
       "       [-1.51203236,  0.16001863, -1.31777088, -1.34589856],\n",
       "       [-1.03081879,  1.42973171, -1.3748782 , -1.34589856],\n",
       "       [-0.54960522,  2.19155956, -1.20355625, -1.08196143],\n",
       "       [-1.51203236,  0.92184648, -1.3748782 , -1.21392999],\n",
       "       [-1.03081879,  0.92184648, -1.31777088, -1.34589856],\n",
       "       [-1.75263914, -0.3478666 , -1.3748782 , -1.34589856],\n",
       "       [-1.15112218,  0.16001863, -1.31777088, -1.47786712],\n",
       "       [-0.54960522,  1.68367433, -1.31777088, -1.34589856],\n",
       "       [-1.27142557,  0.92184648, -1.26066356, -1.34589856],\n",
       "       [-1.27142557, -0.09392398, -1.3748782 , -1.47786712],\n",
       "       [-1.87294253, -0.09392398, -1.54620014, -1.47786712],\n",
       "       [-0.06839165,  2.44550218, -1.48909283, -1.34589856],\n",
       "       [-0.54960522,  2.19155956, -1.43198551, -1.08196143],\n",
       "       [-0.9105154 ,  1.1757891 , -1.3748782 , -1.21392999],\n",
       "       [-0.18869505,  1.93761695, -1.20355625, -1.21392999],\n",
       "       [-0.9105154 ,  1.93761695, -1.31777088, -1.21392999],\n",
       "       [-0.54960522,  0.92184648, -1.20355625, -1.34589856],\n",
       "       [-0.9105154 ,  1.68367433, -1.31777088, -1.08196143],\n",
       "       [-1.51203236,  1.42973171, -1.60330746, -1.34589856],\n",
       "       [-0.9105154 ,  0.66790387, -1.20355625, -0.94999287],\n",
       "       [-1.27142557,  0.92184648, -1.08934161, -1.34589856],\n",
       "       [-1.03081879, -0.09392398, -1.26066356, -1.34589856],\n",
       "       [-1.03081879,  0.92184648, -1.26066356, -1.08196143],\n",
       "       [-0.790212  ,  1.1757891 , -1.31777088, -1.34589856],\n",
       "       [-0.790212  ,  0.92184648, -1.3748782 , -1.34589856],\n",
       "       [-1.39172896,  0.41396125, -1.26066356, -1.34589856],\n",
       "       [-1.27142557,  0.16001863, -1.26066356, -1.34589856],\n",
       "       [-0.54960522,  0.92184648, -1.31777088, -1.08196143],\n",
       "       [-1.15112218,  0.16001863, -1.31777088, -1.47786712],\n",
       "       [-1.03081879,  0.41396125, -1.48909283, -1.34589856],\n",
       "       [-0.42930183,  1.1757891 , -1.43198551, -1.34589856],\n",
       "       [-1.15112218,  0.16001863, -1.31777088, -1.47786712],\n",
       "       [-1.75263914, -0.09392398, -1.43198551, -1.34589856],\n",
       "       [-0.9105154 ,  0.92184648, -1.31777088, -1.34589856],\n",
       "       [-1.03081879,  1.1757891 , -1.43198551, -1.21392999],\n",
       "       [-1.63233575, -1.87152229, -1.43198551, -1.21392999],\n",
       "       [-1.75263914,  0.41396125, -1.43198551, -1.34589856],\n",
       "       [-1.03081879,  1.1757891 , -1.26066356, -0.81802431],\n",
       "       [-0.9105154 ,  1.93761695, -1.08934161, -1.08196143],\n",
       "       [-1.27142557, -0.09392398, -1.3748782 , -1.21392999],\n",
       "       [-0.9105154 ,  1.93761695, -1.26066356, -1.34589856],\n",
       "       [-1.51203236,  0.41396125, -1.3748782 , -1.34589856],\n",
       "       [-0.66990861,  1.68367433, -1.31777088, -1.34589856],\n",
       "       [-1.03081879,  0.66790387, -1.3748782 , -1.34589856],\n",
       "       [ 1.37524905,  0.41396125,  0.50966324,  0.23772419],\n",
       "       [ 0.6534287 ,  0.41396125,  0.39544861,  0.36969275],\n",
       "       [ 1.25494566,  0.16001863,  0.62387787,  0.36969275],\n",
       "       [-0.42930183, -1.87152229,  0.10991203,  0.10575563],\n",
       "       [ 0.77373209, -0.60180921,  0.45255592,  0.36969275],\n",
       "       [-0.18869505, -0.60180921,  0.39544861,  0.10575563],\n",
       "       [ 0.5331253 ,  0.66790387,  0.50966324,  0.50166132],\n",
       "       [-1.15112218, -1.61757968, -0.28983919, -0.29015006],\n",
       "       [ 0.89403548, -0.3478666 ,  0.45255592,  0.10575563],\n",
       "       [-0.790212  , -0.85575183,  0.05280471,  0.23772419],\n",
       "       [ 0.05191174, -0.09392398,  0.22412666,  0.36969275],\n",
       "       [ 0.17221513, -2.12546491,  0.10991203, -0.29015006],\n",
       "       [ 0.29251852, -0.3478666 ,  0.50966324,  0.23772419],\n",
       "       [-0.30899844, -0.3478666 , -0.11851724,  0.10575563],\n",
       "       [ 1.01433887,  0.16001863,  0.33834129,  0.23772419],\n",
       "       [-0.30899844, -0.09392398,  0.39544861,  0.36969275],\n",
       "       [-0.06839165, -0.85575183,  0.16701934, -0.29015006],\n",
       "       [ 0.41282191, -2.12546491,  0.39544861,  0.36969275],\n",
       "       [-0.30899844, -1.36363706,  0.05280471, -0.1581815 ],\n",
       "       [ 0.05191174,  0.41396125,  0.56677056,  0.76559844],\n",
       "       [ 0.29251852, -0.60180921,  0.10991203,  0.10575563],\n",
       "       [ 0.5331253 , -1.36363706,  0.62387787,  0.36969275],\n",
       "       [ 0.29251852, -0.60180921,  0.50966324, -0.02621293],\n",
       "       [ 0.6534287 , -0.3478666 ,  0.28123398,  0.10575563],\n",
       "       [ 0.89403548, -0.09392398,  0.33834129,  0.23772419],\n",
       "       [ 1.13464226, -0.60180921,  0.56677056,  0.23772419],\n",
       "       [ 1.01433887, -0.09392398,  0.68098519,  0.63362988],\n",
       "       [ 0.17221513, -0.3478666 ,  0.39544861,  0.36969275],\n",
       "       [-0.18869505, -1.10969444, -0.17562455, -0.29015006],\n",
       "       [-0.42930183, -1.61757968, -0.00430261, -0.1581815 ],\n",
       "       [-0.42930183, -1.61757968, -0.06140992, -0.29015006],\n",
       "       [-0.06839165, -0.85575183,  0.05280471, -0.02621293],\n",
       "       [ 0.17221513, -0.85575183,  0.73809251,  0.50166132],\n",
       "       [-0.54960522, -0.09392398,  0.39544861,  0.36969275],\n",
       "       [ 0.17221513,  0.92184648,  0.39544861,  0.50166132],\n",
       "       [ 1.01433887,  0.16001863,  0.50966324,  0.36969275],\n",
       "       [ 0.5331253 , -1.87152229,  0.33834129,  0.10575563],\n",
       "       [-0.30899844, -0.09392398,  0.16701934,  0.10575563],\n",
       "       [-0.42930183, -1.36363706,  0.10991203,  0.10575563],\n",
       "       [-0.42930183, -1.10969444,  0.33834129, -0.02621293],\n",
       "       [ 0.29251852, -0.09392398,  0.45255592,  0.23772419],\n",
       "       [-0.06839165, -1.10969444,  0.10991203, -0.02621293],\n",
       "       [-1.03081879, -1.87152229, -0.28983919, -0.29015006],\n",
       "       [-0.30899844, -0.85575183,  0.22412666,  0.10575563],\n",
       "       [-0.18869505, -0.09392398,  0.22412666, -0.02621293],\n",
       "       [-0.18869505, -0.3478666 ,  0.22412666,  0.10575563],\n",
       "       [ 0.41282191, -0.3478666 ,  0.28123398,  0.10575563],\n",
       "       [-0.9105154 , -1.36363706, -0.46116114, -0.1581815 ],\n",
       "       [-0.18869505, -0.60180921,  0.16701934,  0.10575563],\n",
       "       [ 0.5331253 ,  0.66790387,  1.25205835,  1.68937838],\n",
       "       [-0.06839165, -0.85575183,  0.73809251,  0.897567  ],\n",
       "       [ 1.49555244, -0.09392398,  1.19495103,  1.16150413],\n",
       "       [ 0.5331253 , -0.3478666 ,  1.02362909,  0.76559844],\n",
       "       [ 0.77373209, -0.09392398,  1.13784372,  1.29347269],\n",
       "       [ 2.0970694 , -0.09392398,  1.59470225,  1.16150413],\n",
       "       [-1.15112218, -1.36363706,  0.39544861,  0.63362988],\n",
       "       [ 1.73615922, -0.3478666 ,  1.4233803 ,  0.76559844],\n",
       "       [ 1.01433887, -1.36363706,  1.13784372,  0.76559844],\n",
       "       [ 1.61585583,  1.42973171,  1.30916567,  1.68937838],\n",
       "       [ 0.77373209,  0.41396125,  0.73809251,  1.02953556],\n",
       "       [ 0.6534287 , -0.85575183,  0.85230714,  0.897567  ],\n",
       "       [ 1.13464226, -0.09392398,  0.96652177,  1.16150413],\n",
       "       [-0.18869505, -1.36363706,  0.68098519,  1.02953556],\n",
       "       [-0.06839165, -0.60180921,  0.73809251,  1.55740981],\n",
       "       [ 0.6534287 ,  0.41396125,  0.85230714,  1.42544125],\n",
       "       [ 0.77373209, -0.09392398,  0.96652177,  0.76559844],\n",
       "       [ 2.21737279,  1.93761695,  1.65180956,  1.29347269],\n",
       "       [ 2.21737279, -1.10969444,  1.7660242 ,  1.42544125],\n",
       "       [ 0.17221513, -2.12546491,  0.68098519,  0.36969275],\n",
       "       [ 1.25494566,  0.41396125,  1.0807364 ,  1.42544125],\n",
       "       [-0.30899844, -0.60180921,  0.62387787,  1.02953556],\n",
       "       [ 2.21737279, -0.60180921,  1.65180956,  1.02953556],\n",
       "       [ 0.5331253 , -0.85575183,  0.62387787,  0.76559844],\n",
       "       [ 1.01433887,  0.66790387,  1.0807364 ,  1.16150413],\n",
       "       [ 1.61585583,  0.41396125,  1.25205835,  0.76559844],\n",
       "       [ 0.41282191, -0.60180921,  0.56677056,  0.76559844],\n",
       "       [ 0.29251852, -0.09392398,  0.62387787,  0.76559844],\n",
       "       [ 0.6534287 , -0.60180921,  1.02362909,  1.16150413],\n",
       "       [ 1.61585583, -0.09392398,  1.13784372,  0.50166132],\n",
       "       [ 1.85646261, -0.60180921,  1.30916567,  0.897567  ],\n",
       "       [ 2.45797957,  1.93761695,  1.48048762,  1.02953556],\n",
       "       [ 0.6534287 , -0.60180921,  1.02362909,  1.29347269],\n",
       "       [ 0.5331253 , -0.60180921,  0.73809251,  0.36969275],\n",
       "       [ 0.29251852, -1.10969444,  1.02362909,  0.23772419],\n",
       "       [ 2.21737279, -0.09392398,  1.30916567,  1.42544125],\n",
       "       [ 0.5331253 ,  0.92184648,  1.02362909,  1.55740981],\n",
       "       [ 0.6534287 ,  0.16001863,  0.96652177,  0.76559844],\n",
       "       [ 0.17221513, -0.09392398,  0.56677056,  0.76559844],\n",
       "       [ 1.25494566,  0.16001863,  0.90941445,  1.16150413],\n",
       "       [ 1.01433887,  0.16001863,  1.02362909,  1.55740981],\n",
       "       [ 1.25494566,  0.16001863,  0.73809251,  1.42544125],\n",
       "       [-0.06839165, -0.85575183,  0.73809251,  0.897567  ],\n",
       "       [ 1.13464226,  0.41396125,  1.19495103,  1.42544125],\n",
       "       [ 1.01433887,  0.66790387,  1.0807364 ,  1.68937838],\n",
       "       [ 1.01433887, -0.09392398,  0.79519982,  1.42544125],\n",
       "       [ 0.5331253 , -1.36363706,  0.68098519,  0.897567  ],\n",
       "       [ 0.77373209, -0.09392398,  0.79519982,  1.02953556],\n",
       "       [ 0.41282191,  0.92184648,  0.90941445,  1.42544125],\n",
       "       [ 0.05191174, -0.09392398,  0.73809251,  0.76559844]])"
      ]
     },
     "execution_count": 20,
     "metadata": {},
     "output_type": "execute_result"
    }
   ],
   "source": [
    "from sklearn.preprocessing import StandardScaler\n",
    "sc=StandardScaler()\n",
    "x=sc.fit_transform(x)\n",
    "x"
   ]
  },
  {
   "cell_type": "code",
   "execution_count": 21,
   "metadata": {},
   "outputs": [
    {
     "data": {
      "text/plain": [
       "array([0, 0, 0, 0, 0, 0, 0, 0, 0, 0, 0, 0, 0, 0, 0, 0, 0, 0, 0, 0, 0, 0,\n",
       "       0, 0, 0, 0, 0, 0, 0, 0, 0, 0, 0, 0, 0, 0, 0, 0, 0, 0, 0, 0, 0, 0,\n",
       "       0, 0, 0, 1, 1, 1, 1, 1, 1, 1, 1, 1, 1, 1, 1, 1, 1, 1, 1, 1, 1, 1,\n",
       "       1, 1, 1, 1, 1, 1, 1, 1, 1, 1, 1, 1, 1, 1, 1, 1, 1, 1, 1, 1, 1, 1,\n",
       "       1, 1, 1, 1, 1, 1, 1, 1, 2, 2, 2, 2, 2, 2, 2, 2, 2, 2, 2, 2, 2, 2,\n",
       "       2, 2, 2, 2, 2, 2, 2, 2, 2, 2, 2, 2, 2, 2, 2, 2, 2, 2, 2, 2, 2, 2,\n",
       "       2, 2, 2, 2, 2, 2, 2, 2, 2, 2, 2, 2, 2, 2])"
      ]
     },
     "execution_count": 21,
     "metadata": {},
     "output_type": "execute_result"
    }
   ],
   "source": [
    "y=ds.iloc[:,-1].values\n",
    "y"
   ]
  },
  {
   "cell_type": "code",
   "execution_count": 22,
   "metadata": {},
   "outputs": [],
   "source": [
    "from sklearn.model_selection import train_test_split\n",
    "x_train,x_test,y_train,y_test=train_test_split(x,y,random_state=0,test_size=0.2)"
   ]
  },
  {
   "cell_type": "code",
   "execution_count": 23,
   "metadata": {},
   "outputs": [
    {
     "data": {
      "text/plain": [
       "(116, 4)"
      ]
     },
     "execution_count": 23,
     "metadata": {},
     "output_type": "execute_result"
    }
   ],
   "source": [
    "x_train.shape"
   ]
  },
  {
   "cell_type": "code",
   "execution_count": 24,
   "metadata": {},
   "outputs": [
    {
     "data": {
      "text/plain": [
       "(116,)"
      ]
     },
     "execution_count": 24,
     "metadata": {},
     "output_type": "execute_result"
    }
   ],
   "source": [
    "y_train.shape"
   ]
  },
  {
   "cell_type": "code",
   "execution_count": 25,
   "metadata": {},
   "outputs": [
    {
     "data": {
      "text/plain": [
       "(30, 4)"
      ]
     },
     "execution_count": 25,
     "metadata": {},
     "output_type": "execute_result"
    }
   ],
   "source": [
    "x_test.shape"
   ]
  },
  {
   "cell_type": "code",
   "execution_count": 26,
   "metadata": {},
   "outputs": [
    {
     "data": {
      "text/plain": [
       "(30,)"
      ]
     },
     "execution_count": 26,
     "metadata": {},
     "output_type": "execute_result"
    }
   ],
   "source": [
    "y_test.shape"
   ]
  },
  {
   "cell_type": "code",
   "execution_count": 27,
   "metadata": {},
   "outputs": [],
   "source": [
    "from sklearn.tree import DecisionTreeClassifier\n",
    "dt=DecisionTreeClassifier(criterion='gini',random_state=0,max_depth=5)"
   ]
  },
  {
   "cell_type": "code",
   "execution_count": 28,
   "metadata": {},
   "outputs": [
    {
     "data": {
      "text/plain": [
       "DecisionTreeClassifier(ccp_alpha=0.0, class_weight=None, criterion='gini',\n",
       "                       max_depth=5, max_features=None, max_leaf_nodes=None,\n",
       "                       min_impurity_decrease=0.0, min_impurity_split=None,\n",
       "                       min_samples_leaf=1, min_samples_split=2,\n",
       "                       min_weight_fraction_leaf=0.0, presort='deprecated',\n",
       "                       random_state=0, splitter='best')"
      ]
     },
     "execution_count": 28,
     "metadata": {},
     "output_type": "execute_result"
    }
   ],
   "source": [
    "dt.fit(x_train,y_train)"
   ]
  },
  {
   "cell_type": "code",
   "execution_count": 29,
   "metadata": {},
   "outputs": [
    {
     "data": {
      "text/plain": [
       "array([0, 0, 0, 2, 2, 1, 0, 0, 2, 0, 0, 1, 2, 1, 1, 1, 0, 2, 2, 0, 2, 0,\n",
       "       2, 1, 2, 0, 2, 1, 1, 2])"
      ]
     },
     "execution_count": 29,
     "metadata": {},
     "output_type": "execute_result"
    }
   ],
   "source": [
    "y_pred=dt.predict(x_test)\n",
    "y_pred"
   ]
  },
  {
   "cell_type": "code",
   "execution_count": 30,
   "metadata": {},
   "outputs": [
    {
     "name": "stderr",
     "output_type": "stream",
     "text": [
      "F:\\ANACONDA\\lib\\site-packages\\sklearn\\externals\\six.py:31: FutureWarning: The module is deprecated in version 0.21 and will be removed in version 0.23 since we've dropped support for Python 2.7. Please rely on the official version of six (https://pypi.org/project/six/).\n",
      "  \"(https://pypi.org/project/six/).\", FutureWarning)\n"
     ]
    },
    {
     "data": {
      "image/png": "[encoded data removed]",
      "text/plain": [
       "<IPython.core.display.Image object>"
      ]
     },
     "execution_count": 30,
     "metadata": {},
     "output_type": "execute_result"
    }
   ],
   "source": [
    "from sklearn.externals.six import StringIO\n",
    "from IPython.display import Image\n",
    "from sklearn.tree import export_graphviz\n",
    "import pydotplus\n",
    "dot_data = StringIO()\n",
    "export_graphviz(dt, out_file=dot_data,\n",
    "                filled=True, rounded=True,\n",
    "                special_characters=True)\n",
    "graph = pydotplus.graph_from_dot_data(dot_data.getvalue())\n",
    "Image(graph.create_png())"
   ]
  },
  {
   "cell_type": "code",
   "execution_count": null,
   "metadata": {},
   "outputs": [],
   "source": []
  }
 ],
 "metadata": {
  "kernelspec": {
   "display_name": "Python 3",
   "language": "python",
   "name": "python3"
  },
  "language_info": {
   "codemirror_mode": {
    "name": "ipython",
    "version": 3
   },
   "file_extension": ".py",
   "mimetype": "text/x-python",
   "name": "python",
   "nbconvert_exporter": "python",
   "pygments_lexer": "ipython3",
   "version": "3.7.6"
  }
 },
 "nbformat": 4,
 "nbformat_minor": 4
}
